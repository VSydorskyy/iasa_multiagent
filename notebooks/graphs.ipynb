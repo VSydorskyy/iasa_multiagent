{
 "cells": [
  {
   "cell_type": "code",
   "execution_count": 1,
   "metadata": {},
   "outputs": [
    {
     "name": "stderr",
     "output_type": "stream",
     "text": [
      "In /home/vsydorskyi/anaconda3/envs/venv/lib/python3.7/site-packages/matplotlib/mpl-data/stylelib/_classic_test.mplstyle: \n",
      "The text.latex.preview rcparam was deprecated in Matplotlib 3.3 and will be removed two minor releases later.\n",
      "In /home/vsydorskyi/anaconda3/envs/venv/lib/python3.7/site-packages/matplotlib/mpl-data/stylelib/_classic_test.mplstyle: \n",
      "The mathtext.fallback_to_cm rcparam was deprecated in Matplotlib 3.3 and will be removed two minor releases later.\n",
      "In /home/vsydorskyi/anaconda3/envs/venv/lib/python3.7/site-packages/matplotlib/mpl-data/stylelib/_classic_test.mplstyle: Support for setting the 'mathtext.fallback_to_cm' rcParam is deprecated since 3.3 and will be removed two minor releases later; use 'mathtext.fallback : 'cm' instead.\n",
      "In /home/vsydorskyi/anaconda3/envs/venv/lib/python3.7/site-packages/matplotlib/mpl-data/stylelib/_classic_test.mplstyle: \n",
      "The validate_bool_maybe_none function was deprecated in Matplotlib 3.3 and will be removed two minor releases later.\n",
      "In /home/vsydorskyi/anaconda3/envs/venv/lib/python3.7/site-packages/matplotlib/mpl-data/stylelib/_classic_test.mplstyle: \n",
      "The savefig.jpeg_quality rcparam was deprecated in Matplotlib 3.3 and will be removed two minor releases later.\n",
      "In /home/vsydorskyi/anaconda3/envs/venv/lib/python3.7/site-packages/matplotlib/mpl-data/stylelib/_classic_test.mplstyle: \n",
      "The keymap.all_axes rcparam was deprecated in Matplotlib 3.3 and will be removed two minor releases later.\n",
      "In /home/vsydorskyi/anaconda3/envs/venv/lib/python3.7/site-packages/matplotlib/mpl-data/stylelib/_classic_test.mplstyle: \n",
      "The animation.avconv_path rcparam was deprecated in Matplotlib 3.3 and will be removed two minor releases later.\n",
      "In /home/vsydorskyi/anaconda3/envs/venv/lib/python3.7/site-packages/matplotlib/mpl-data/stylelib/_classic_test.mplstyle: \n",
      "The animation.avconv_args rcparam was deprecated in Matplotlib 3.3 and will be removed two minor releases later.\n"
     ]
    }
   ],
   "source": [
    "from copy import deepcopy\n",
    "\n",
    "import numpy as np\n",
    "import pandas as pd\n",
    "\n",
    "import networkx as nx\n",
    "\n",
    "import matplotlib.pyplot as plt\n",
    "\n",
    "%matplotlib inline"
   ]
  },
  {
   "cell_type": "code",
   "execution_count": null,
   "metadata": {},
   "outputs": [],
   "source": [
    "G = nx.Graph()"
   ]
  },
  {
   "cell_type": "code",
   "execution_count": null,
   "metadata": {},
   "outputs": [],
   "source": [
    "G = nx.Graph()\n",
    "\n",
    "G.add_nodes_from([\n",
    "    (0, {\"color\": \"white\"}),\n",
    "    (1, {\"color\": \"white\"}),\n",
    "    (2, {\"color\": \"white\"}),\n",
    "    (3, {\"color\": \"white\"}),\n",
    "    (4, {\"color\": \"white\"}),\n",
    "    (5, {\"color\": \"white\"}),\n",
    "])\n",
    "\n",
    "G.add_edge(0,1)\n",
    "G.add_edge(0,2)\n",
    "\n",
    "G.add_edge(1,2)\n",
    "G.add_edge(1,3)\n",
    "G.add_edge(3,4)\n",
    "G.add_edge(2,4)\n",
    "\n",
    "G.add_edge(1,5)\n",
    "G.add_edge(3,5)"
   ]
  },
  {
   "cell_type": "code",
   "execution_count": null,
   "metadata": {},
   "outputs": [],
   "source": [
    "def visualise_graph(input_G):\n",
    "    colors = []\n",
    "\n",
    "    for node in input_G:\n",
    "        colors.append(input_G.nodes[node]['color'])\n",
    "        \n",
    "    nx.draw(G, with_labels=True, node_color=colors, font_weight='bold')\n",
    "    plt.show()"
   ]
  },
  {
   "cell_type": "code",
   "execution_count": null,
   "metadata": {},
   "outputs": [],
   "source": [
    "G = nx.turan_graph(10, 4)\n",
    "for node in G:\n",
    "    G.nodes[node]['color'] = 'white'"
   ]
  },
  {
   "cell_type": "code",
   "execution_count": null,
   "metadata": {},
   "outputs": [],
   "source": [
    "visualise_graph(G)"
   ]
  },
  {
   "cell_type": "code",
   "execution_count": null,
   "metadata": {},
   "outputs": [],
   "source": [
    "class DFSWrapper(object):\n",
    "    \n",
    "    def __init__(\n",
    "        self,\n",
    "        graph,\n",
    "        color_domain\n",
    "    ):\n",
    "        self.graph = graph\n",
    "        self.color_domain = color_domain\n",
    "        self.n = graph.number_of_nodes()\n",
    "        \n",
    "        self.result = None\n",
    "        \n",
    "    def get_constraint(self, graph, i, v):\n",
    "        if graph is None:\n",
    "            return None\n",
    "        for node in graph.neighbors(i):\n",
    "            if graph.nodes[node]['color'] == v:\n",
    "                return False\n",
    "        return True    \n",
    "        \n",
    "    def run_colorization(self):\n",
    "        self.result = self.dfs(0, self.graph)\n",
    "        if self.result is None:\n",
    "            print('Solution does not exist')\n",
    "        else:\n",
    "            print('Solution was found')\n",
    "            visualise_graph(self.result)\n",
    "\n",
    "    def dfs(self, i, g_t):\n",
    "        g = g_t.copy()\n",
    "        if i > self.n - 1:\n",
    "            return g\n",
    "        for v in self.color_domain:\n",
    "            p = self.get_constraint(g, i, v)\n",
    "            if p:\n",
    "                g.nodes[i]['color'] = v\n",
    "                g = self.dfs(i+1, g)\n",
    "                if g is not None:\n",
    "                    return g\n",
    "        return None"
   ]
  },
  {
   "cell_type": "code",
   "execution_count": null,
   "metadata": {},
   "outputs": [],
   "source": [
    "dfs_temp = DFSWrapper(\n",
    "    G, \n",
    "    ['red', 'green', 'blue', 'yellow']\n",
    ")"
   ]
  },
  {
   "cell_type": "code",
   "execution_count": null,
   "metadata": {},
   "outputs": [],
   "source": [
    "dfs_temp.run_colorization()"
   ]
  },
  {
   "cell_type": "code",
   "execution_count": null,
   "metadata": {},
   "outputs": [],
   "source": [
    "pd.DataFrame(np.random.randint(low=0, high=20, size=(10,2)))"
   ]
  },
  {
   "cell_type": "code",
   "execution_count": null,
   "metadata": {},
   "outputs": [],
   "source": [
    "np.unique(np.random.randint(low=0, high=2, size=(10,2)), axis=0)"
   ]
  },
  {
   "cell_type": "code",
   "execution_count": null,
   "metadata": {},
   "outputs": [],
   "source": [
    "np.random.randint(low=0, high=2, size=(10,2))"
   ]
  },
  {
   "cell_type": "code",
   "execution_count": 2,
   "metadata": {},
   "outputs": [],
   "source": [
    "def peshka_rule_attack(x, y, x_ref, y_ref):\n",
    "    possible_coords = [\n",
    "        (x-1, y+1),\n",
    "        (x-1, y-1),\n",
    "        (x, y)\n",
    "    ]\n",
    "    for x_pos, y_pos in possible_coords:\n",
    "        if x_pos == x_ref and y_pos == y_ref:\n",
    "            return True\n",
    "    return False\n",
    "\n",
    "def peshka_rule_defense(x, y, desk, n):\n",
    "    possible_coords = [\n",
    "        (x-1, y+1),\n",
    "        (x-1, y-1),\n",
    "        (x, y)\n",
    "    ]\n",
    "    figure_sum = sum(desk[el[0], el[1]] for el in possible_coords if (0<=el[0]<n) and (0<=el[1]<n)) \n",
    "    return bool(figure_sum)\n",
    "\n",
    "def king_rule_attack(x, y, x_ref, y_ref):\n",
    "    possible_coords = [\n",
    "        (x+1, y+1),\n",
    "        (x+1, y),\n",
    "        (x+1, y-1),\n",
    "        (x-1, y+1),\n",
    "        (x, y+1),\n",
    "        (x, y-1),\n",
    "        (x-1, y-1),\n",
    "        (x-1, y),\n",
    "        (x, y),\n",
    "    ]\n",
    "    for x_pos, y_pos in possible_coords:\n",
    "        if x_pos == x_ref and y_pos == y_ref:\n",
    "            return True\n",
    "    return False\n",
    "\n",
    "def king_rule_defense(x, y, desk, n):\n",
    "    possible_coords = [\n",
    "        (x+1, y+1),\n",
    "        (x+1, y),\n",
    "        (x+1, y-1),\n",
    "        (x-1, y+1),\n",
    "        (x, y+1),\n",
    "        (x, y-1),\n",
    "        (x-1, y-1),\n",
    "        (x-1, y),\n",
    "        (x, y),\n",
    "    ]\n",
    "    figure_sum = sum(desk[el[0], el[1]] for el in possible_coords if (0<=el[0]<n) and (0<=el[1]<n)) \n",
    "    return bool(figure_sum)\n",
    "\n",
    "def tura_rule_attack(x, y, x_ref, y_ref):\n",
    "    if x == x_ref or y == y_ref:\n",
    "        return True\n",
    "    else:\n",
    "        return False\n",
    "    \n",
    "def tura_rule_deffense(x, y, desk, n):\n",
    "    figure_sum = desk[x,y] + desk[x,:].sum() + desk[:,y].sum()\n",
    "    return bool(figure_sum)"
   ]
  },
  {
   "cell_type": "code",
   "execution_count": 3,
   "metadata": {},
   "outputs": [],
   "source": [
    "class ChessField(object):\n",
    "    \n",
    "    def __init__(\n",
    "        self,\n",
    "        size: int,\n",
    "        figure_config,\n",
    "    ):\n",
    "        self.desk = np.zeros((size, size))\n",
    "        self.size = size\n",
    "        self.figures = []\n",
    "        self.figure_config = dict()\n",
    "        for el in figure_config:\n",
    "            n_figures, figure_color, figure_number, figure_name, figure_rule = el\n",
    "            self.figure_config[figure_name] = {\n",
    "                \"color\": figure_color,\n",
    "                \"n\": n_figures,\n",
    "                \"number\": figure_number,\n",
    "                \"const_def\": figure_rule[0],\n",
    "                \"const_atack\": figure_rule[1]\n",
    "            }\n",
    "            coords = np.random.randint(low=0, high=size, size=(n_figures, 2))\n",
    "            for coord in coords:\n",
    "                self.desk[coord[0], coord[1]] = figure_number\n",
    "            self.figures += [(coord, figure_name) for coord in coords]\n",
    "            \n",
    "    def show_field(self):\n",
    "        field = np.zeros((self.size,self.size,3), dtype=np.uint8)\n",
    "        for figure in self.figures:\n",
    "            coord, name = figure\n",
    "            field[coord[0], coord[1]] = self.figure_config[name]['color']\n",
    "\n",
    "        plt.imshow(field)\n",
    "        plt.show()\n",
    "        \n",
    "    def zero_field(self):\n",
    "        self.desk = np.zeros((self.size, self.size))\n",
    "        self.figure = [(None, el[1]) for el in self.figures]\n",
    "        \n",
    "        \n",
    "class DFSChessWrapper(object):\n",
    "    \n",
    "    def __init__(\n",
    "        self,\n",
    "        chess_class\n",
    "    ):\n",
    "        self.graph = chess_class\n",
    "        self.n = len(chess_class.figures)\n",
    "        \n",
    "        self.result = None\n",
    "        \n",
    "    def get_constraint(self, graph, i, x, y):\n",
    "        \n",
    "        if graph is None:\n",
    "            return None\n",
    "        \n",
    "        _, figure_name = graph.figures[i]\n",
    "        if graph.figure_config[figure_name]['const_def'](x, y, graph.desk, graph.size):\n",
    "            return False\n",
    "        \n",
    "        for idx, figure in enumerate(graph.figures):\n",
    "            if idx != i:\n",
    "                figure_coord, figure_name = figure\n",
    "                if figure_coord is not None:\n",
    "                    do_strike = graph.figure_config[figure_name]['const_atack'](figure_coord[0], figure_coord[1], x, y)\n",
    "                    if do_strike:\n",
    "                        return False\n",
    "        return True   \n",
    "        \n",
    "    def run_colorization(self):\n",
    "        self.graph.zero_field()\n",
    "        self.result = self.dfs(0, self.graph)\n",
    "        if self.result is None:\n",
    "            print('Solution does not exist')\n",
    "        else:\n",
    "            print('Solution was found')\n",
    "            self.result.show_field()\n",
    "\n",
    "    def dfs(self, i, g_t):\n",
    "        g = deepcopy(g_t)\n",
    "        if i >= self.n:\n",
    "            return g\n",
    "        for x in range(0, self.graph.size):\n",
    "            for y in range(0, self.graph.size):\n",
    "                p = self.get_constraint(g, i, x, y)\n",
    "                if p:\n",
    "                    g.figures[i] = (np.array([x, y]), g.figures[i][1])\n",
    "                    g.desk[x,y] = g.figure_config[g.figures[i][1]]['number']\n",
    "                    g = self.dfs(i+1, g)\n",
    "                    if g is not None:\n",
    "                        return g\n",
    "        return None"
   ]
  },
  {
   "cell_type": "code",
   "execution_count": 237,
   "metadata": {},
   "outputs": [],
   "source": [
    "temp_field = ChessField(\n",
    "    10,\n",
    "    # R G B\n",
    "    [\n",
    "        (2, (255, 0, 0), 1, 'peshka', (peshka_rule_defense, peshka_rule_attack)),\n",
    "        (5, (0, 255, 0), 2, 'king', (king_rule_defense, king_rule_attack)),\n",
    "        (4, (0, 0, 255), 3, 'tura', (tura_rule_deffense, tura_rule_attack))\n",
    "    ]\n",
    ")"
   ]
  },
  {
   "cell_type": "code",
   "execution_count": 238,
   "metadata": {},
   "outputs": [
    {
     "data": {
      "image/png": "[encoded data removed]",
      "text/plain": [
       "<Figure size 432x288 with 1 Axes>"
      ]
     },
     "metadata": {
      "needs_background": "light"
     },
     "output_type": "display_data"
    }
   ],
   "source": [
    "temp_field.show_field()"
   ]
  },
  {
   "cell_type": "code",
   "execution_count": 239,
   "metadata": {},
   "outputs": [
    {
     "name": "stdout",
     "output_type": "stream",
     "text": [
      "Solution was found\n"
     ]
    },
    {
     "data": {
      "image/png": "[encoded data removed]",
      "text/plain": [
       "<Figure size 432x288 with 1 Axes>"
      ]
     },
     "metadata": {
      "needs_background": "light"
     },
     "output_type": "display_data"
    }
   ],
   "source": [
    "temp_dfs_chess = DFSChessWrapper(temp_field)\n",
    "\n",
    "temp_dfs_chess.run_colorization()"
   ]
  },
  {
   "cell_type": "code",
   "execution_count": 240,
   "metadata": {},
   "outputs": [],
   "source": [
    "class FilteringChessWrapper(object):\n",
    "    \n",
    "    def __init__(\n",
    "        self,\n",
    "        chess_class\n",
    "    ):\n",
    "        self.graph = deepcopy(chess_class)\n",
    "        self.n = len(chess_class.figures)\n",
    "        \n",
    "        self.result = None\n",
    "        \n",
    "        universal_domain = [(x, y) for x in range(0, self.graph.size) for y in range(0, self.graph.size)]\n",
    "        self.domains = [deepcopy(universal_domain) for _ in range(len(self.graph.figures))]\n",
    "        for i in range(len(self.domains) - 1):\n",
    "            n_to_drop = np.random.randint(0, len(universal_domain)-2)\n",
    "            for _ in range(n_to_drop):\n",
    "                drop_id = np.random.randint(0, len(self.domains[i]))\n",
    "                self.domains[i].pop(drop_id)\n",
    "        last_domain_preserve = np.random.randint(0, len(universal_domain))\n",
    "        self.domains[-1] = [self.domains[-1][last_domain_preserve]]\n",
    "        \n",
    "    def get_constraint_one(self, graph, i, xi, yi, j, xj, yj):\n",
    "        \n",
    "        _, figure_name = graph.figures[i]\n",
    "        if graph.figure_config[figure_name]['const_atack'](xi, yi, xj, yj):\n",
    "            return False\n",
    "        \n",
    "        _, figure_name = graph.figures[j]\n",
    "        if graph.figure_config[figure_name]['const_atack'](xj, yj, xi, yi):\n",
    "            return False\n",
    "        \n",
    "        return True\n",
    "    \n",
    "    def get_constraint(self, graph, i, vi, j, dj):\n",
    "        return not any(self.get_constraint_one(graph, i, vi[0], vi[1], j, vj[0], vj[1]) for vj in dj)\n",
    "        \n",
    "    def run_colorization(self):\n",
    "        for i in range(len(self.graph.figures)):\n",
    "            self.filtering(i)\n",
    "            if len(self.domains[i]) == 0:\n",
    "                print('Solution was not found')\n",
    "                return None\n",
    "            self.domains[i] = [self.domains[i][0]]\n",
    "            print([len(el) for el in self.domains])\n",
    "            \n",
    "        for i in range(len(self.domains)):\n",
    "            self.graph.figures[i] = (np.array(self.domains[i][0]), self.graph.figures[i][1])\n",
    "            \n",
    "        self.graph.show_field()\n",
    "\n",
    "    def filtering(self, i):\n",
    "        for j in range(0, len(self.graph.figures)):\n",
    "            if j != i:\n",
    "                self.revise(i, j)\n",
    "        \n",
    "    def revise(self, i, j):\n",
    "        old_domain = deepcopy(self.domains[i])\n",
    "        current_domain = deepcopy(self.domains[i])\n",
    "        for  v in current_domain:\n",
    "            if self.get_constraint(self.graph, i, v, j, self.domains[j]):\n",
    "                current_domain.remove(v)\n",
    "                \n",
    "        if set(old_domain) != set(current_domain):\n",
    "            self.domains[i] = current_domain\n",
    "            for k in range(0, len(self.graph.figures)):\n",
    "                if k not in [i, j]:\n",
    "                    self.revise(i, k)\n",
    "                \n",
    "    def handle_new_domain(self, i, k, domain):\n",
    "        self.domains[i] = domain\n",
    "        self.revise(i, k)"
   ]
  },
  {
   "cell_type": "code",
   "execution_count": 241,
   "metadata": {},
   "outputs": [
    {
     "data": {
      "image/png": "[encoded data removed]",
      "text/plain": [
       "<Figure size 432x288 with 1 Axes>"
      ]
     },
     "metadata": {
      "needs_background": "light"
     },
     "output_type": "display_data"
    }
   ],
   "source": [
    "temp_field.show_field()"
   ]
  },
  {
   "cell_type": "code",
   "execution_count": 242,
   "metadata": {},
   "outputs": [
    {
     "data": {
      "text/plain": [
       "[29, 37, 90, 44, 53, 69, 53, 13, 25, 23, 1]"
      ]
     },
     "execution_count": 242,
     "metadata": {},
     "output_type": "execute_result"
    }
   ],
   "source": [
    "filt_temp = FilteringChessWrapper(temp_field)\n",
    "\n",
    "[len(el) for el in filt_temp.domains]"
   ]
  },
  {
   "cell_type": "code",
   "execution_count": 243,
   "metadata": {},
   "outputs": [
    {
     "name": "stdout",
     "output_type": "stream",
     "text": [
      "[1, 37, 90, 44, 53, 69, 53, 13, 25, 23, 1]\n",
      "[1, 1, 90, 44, 53, 69, 53, 13, 25, 23, 1]\n",
      "[1, 1, 1, 44, 53, 69, 53, 13, 25, 23, 1]\n",
      "[1, 1, 1, 1, 53, 69, 53, 13, 25, 23, 1]\n",
      "[1, 1, 1, 1, 1, 69, 53, 13, 25, 23, 1]\n",
      "[1, 1, 1, 1, 1, 1, 53, 13, 25, 23, 1]\n",
      "[1, 1, 1, 1, 1, 1, 1, 13, 25, 23, 1]\n",
      "[1, 1, 1, 1, 1, 1, 1, 1, 25, 23, 1]\n",
      "[1, 1, 1, 1, 1, 1, 1, 1, 1, 23, 1]\n",
      "[1, 1, 1, 1, 1, 1, 1, 1, 1, 1, 1]\n",
      "[1, 1, 1, 1, 1, 1, 1, 1, 1, 1, 1]\n"
     ]
    },
    {
     "data": {
      "image/png": "[encoded data removed]",
      "text/plain": [
       "<Figure size 432x288 with 1 Axes>"
      ]
     },
     "metadata": {
      "needs_background": "light"
     },
     "output_type": "display_data"
    }
   ],
   "source": [
    "filt_temp.run_colorization()"
   ]
  },
  {
   "cell_type": "code",
   "execution_count": 244,
   "metadata": {},
   "outputs": [],
   "source": [
    "class DBChessWrapper(object):\n",
    "    \n",
    "    def __init__(\n",
    "        self,\n",
    "        chess_class,\n",
    "        timeout: int = 100,\n",
    "        distributed_mode: bool = True\n",
    "    ):\n",
    "        self.graph = deepcopy(chess_class)\n",
    "        self.n = len(chess_class.figures)\n",
    "        self.timeout = timeout\n",
    "        self.distributed_mode = distributed_mode\n",
    "        \n",
    "        self.result = None\n",
    "        \n",
    "    def get_constraint_one(self, graph, i, xi, yi, j, xj, yj):\n",
    "        \n",
    "        _, figure_name = graph.figures[i]\n",
    "        if graph.figure_config[figure_name]['const_atack'](xi, yi, xj, yj):\n",
    "            return False\n",
    "        \n",
    "        _, figure_name = graph.figures[j]\n",
    "        if graph.figure_config[figure_name]['const_atack'](xj, yj, xi, yi):\n",
    "            return False\n",
    "        \n",
    "        return True\n",
    "    \n",
    "    def evaluate_position(self, graph, i, x, y):\n",
    "        benefit = 0\n",
    "        for other_id in range(self.n):\n",
    "            if other_id != i:\n",
    "                other_coords = graph.figures[other_id][0]\n",
    "                benefit += self.get_constraint_one(graph, i, x, y, other_id, other_coords[0], other_coords[1])\n",
    "        return benefit\n",
    "\n",
    "    def send_improve(self, graph, i):\n",
    "        \n",
    "        current_coords = graph.figures[i][0]\n",
    "        current_benefit = self.evaluate_position(graph, i, current_coords[0], current_coords[1])\n",
    "        \n",
    "        possible_values = []\n",
    "        possible_benefit = []\n",
    "        \n",
    "        for x in range(self.graph.size):\n",
    "            for y in range(self.graph.size):\n",
    "                if x != current_coords[0] and y != current_coords[1]:\n",
    "                    possible_values.append((x,y))\n",
    "                    possible_benefit.append(self.evaluate_position(graph, i, x, y))\n",
    "                    \n",
    "        possible_benefit = np.array(possible_benefit) - current_benefit\n",
    "        some_postive_benefit = possible_benefit.max() > 0\n",
    "        possible_indices = np.where(possible_benefit == possible_benefit.max())[0]\n",
    "        best_index = np.random.choice(possible_indices)\n",
    "        best_benefit = possible_benefit[best_index]\n",
    "        best_value = possible_values[best_index]\n",
    "                \n",
    "        return best_value, best_benefit, some_postive_benefit\n",
    "    \n",
    "    def check_convergance(self, graph):\n",
    "        all_benefits = []\n",
    "        for i in range(self.n):\n",
    "            current_coords = graph.figures[i][0]\n",
    "            all_benefits.append(self.evaluate_position(graph, i, current_coords[0], current_coords[1]))\n",
    "        return np.all(np.array(all_benefits) == (self.n - 1)), np.sum(all_benefits)\n",
    "    \n",
    "    def run_one_loop(self, graph):\n",
    "        for i in range(self.n):\n",
    "            best_value, best_benefit, some_postive_benefit = self.send_improve(graph, i)\n",
    "            if some_postive_benefit:\n",
    "                graph.figures[i] = (np.array(best_value), graph.figures[i][1])\n",
    "        return graph\n",
    "    \n",
    "    def run_one_loop_distributed(self, graph):\n",
    "        best_values = []\n",
    "        do_benefits = []\n",
    "        \n",
    "        for i in range(self.n):\n",
    "            best_value, best_benefit, some_postive_benefit = self.send_improve(graph, i)\n",
    "            best_values.append(best_value)\n",
    "            do_benefits.append(some_postive_benefit)\n",
    "            \n",
    "        for i in range(self.n):\n",
    "            if do_benefits[i]:\n",
    "                graph.figures[i] = (np.array(best_values[i]), graph.figures[i][1])\n",
    "                \n",
    "        return graph\n",
    "    \n",
    "    def run_colorization(self):\n",
    "        new_graph = deepcopy(self.graph)\n",
    "        number_of_loops = 0\n",
    "        all_benefit_values = []\n",
    "        \n",
    "        while number_of_loops < self.timeout:\n",
    "            if self.distributed_mode:\n",
    "                new_graph = self.run_one_loop_distributed(new_graph)\n",
    "            else:\n",
    "                new_graph = self.run_one_loop(new_graph)\n",
    "            converged, all_benefit_value = self.check_convergance(new_graph)\n",
    "            all_benefit_values.append(all_benefit_value)\n",
    "            number_of_loops += 1\n",
    "            if converged:\n",
    "                break\n",
    "        if converged:\n",
    "            print(f\"Convergence taken: {number_of_loops}\")\n",
    "            self.result = new_graph\n",
    "            new_graph.show_field()\n",
    "        else:\n",
    "            print(\"Not converged\")\n",
    "            \n",
    "        return all_benefit_values"
   ]
  },
  {
   "cell_type": "code",
   "execution_count": 245,
   "metadata": {},
   "outputs": [],
   "source": [
    "temp_db = DBChessWrapper(temp_field, distributed_mode=True)"
   ]
  },
  {
   "cell_type": "code",
   "execution_count": 246,
   "metadata": {},
   "outputs": [
    {
     "name": "stdout",
     "output_type": "stream",
     "text": [
      "Convergence taken: 11\n"
     ]
    },
    {
     "data": {
      "image/png": "[encoded data removed]",
      "text/plain": [
       "<Figure size 432x288 with 1 Axes>"
      ]
     },
     "metadata": {
      "needs_background": "light"
     },
     "output_type": "display_data"
    }
   ],
   "source": [
    "some_values = temp_db.run_colorization()"
   ]
  },
  {
   "cell_type": "code",
   "execution_count": 247,
   "metadata": {},
   "outputs": [
    {
     "data": {
      "text/plain": [
       "[<matplotlib.lines.Line2D at 0x7fca3c43d890>]"
      ]
     },
     "execution_count": 247,
     "metadata": {},
     "output_type": "execute_result"
    },
    {
     "data": {
      "image/png": "[encoded data removed]",
      "text/plain": [
       "<Figure size 432x288 with 1 Axes>"
      ]
     },
     "metadata": {
      "needs_background": "light"
     },
     "output_type": "display_data"
    }
   ],
   "source": [
    "plt.plot(some_values)"
   ]
  },
  {
   "cell_type": "code",
   "execution_count": 201,
   "metadata": {},
   "outputs": [
    {
     "data": {
      "text/plain": [
       "[54,\n",
       " 0,\n",
       " 0,\n",
       " 0,\n",
       " 0,\n",
       " 0,\n",
       " 0,\n",
       " 0,\n",
       " 0,\n",
       " 0,\n",
       " 0,\n",
       " 0,\n",
       " 0,\n",
       " 0,\n",
       " 0,\n",
       " 0,\n",
       " 0,\n",
       " 0,\n",
       " 0,\n",
       " 0,\n",
       " 0,\n",
       " 0,\n",
       " 0,\n",
       " 0,\n",
       " 0,\n",
       " 0,\n",
       " 0,\n",
       " 0,\n",
       " 0,\n",
       " 0,\n",
       " 0,\n",
       " 0,\n",
       " 0,\n",
       " 0,\n",
       " 0,\n",
       " 0,\n",
       " 0,\n",
       " 0,\n",
       " 0,\n",
       " 0,\n",
       " 0,\n",
       " 0,\n",
       " 0,\n",
       " 0,\n",
       " 0,\n",
       " 0,\n",
       " 0,\n",
       " 0,\n",
       " 0,\n",
       " 0,\n",
       " 0,\n",
       " 0,\n",
       " 0,\n",
       " 0,\n",
       " 0,\n",
       " 0,\n",
       " 0,\n",
       " 0,\n",
       " 0,\n",
       " 0,\n",
       " 0,\n",
       " 0,\n",
       " 0,\n",
       " 0,\n",
       " 0,\n",
       " 0,\n",
       " 0,\n",
       " 0,\n",
       " 0,\n",
       " 0,\n",
       " 0,\n",
       " 0,\n",
       " 0,\n",
       " 0,\n",
       " 0,\n",
       " 0,\n",
       " 0,\n",
       " 0,\n",
       " 0,\n",
       " 0,\n",
       " 0,\n",
       " 0,\n",
       " 0,\n",
       " 0,\n",
       " 0,\n",
       " 0,\n",
       " 0,\n",
       " 0,\n",
       " 0,\n",
       " 0,\n",
       " 0,\n",
       " 0,\n",
       " 0,\n",
       " 0,\n",
       " 0,\n",
       " 0,\n",
       " 0,\n",
       " 0,\n",
       " 0,\n",
       " 0]"
      ]
     },
     "execution_count": 201,
     "metadata": {},
     "output_type": "execute_result"
    }
   ],
   "source": [
    "some_values"
   ]
  },
  {
   "cell_type": "code",
   "execution_count": 76,
   "metadata": {},
   "outputs": [],
   "source": [
    "some_result = temp_db.send_improve(temp_field, 0)"
   ]
  },
  {
   "cell_type": "code",
   "execution_count": 78,
   "metadata": {},
   "outputs": [
    {
     "data": {
      "text/plain": [
       "array([ 1,  1,  1,  1,  0,  1,  1,  1,  1,  1,  1,  0,  0, -1,  1,  0,  1,\n",
       "        1,  2,  2,  2,  0,  1,  0,  2,  2,  2,  1,  1,  2,  1,  0,  2,  1,\n",
       "        2,  2,  0,  0,  1, -1, -1,  0,  0,  0,  1,  1,  1,  1,  0,  0,  1,\n",
       "        1,  1,  2,  1,  1,  1,  1,  1,  2,  2,  2,  2,  1,  0,  0,  0,  1,\n",
       "        2,  2,  2,  2,  2,  1,  1,  0,  1,  2,  2,  2,  2])"
      ]
     },
     "execution_count": 78,
     "metadata": {},
     "output_type": "execute_result"
    }
   ],
   "source": [
    "some_result[1]"
   ]
  },
  {
   "cell_type": "code",
   "execution_count": 72,
   "metadata": {},
   "outputs": [
    {
     "data": {
      "text/plain": [
       "array([8, 9, 9, 9, 9, 9, 9, 9, 9, 9, 9, 9, 9, 9, 9, 9, 9, 9, 9, 9, 9, 9,\n",
       "       9, 9, 9, 9, 9])"
      ]
     },
     "execution_count": 72,
     "metadata": {},
     "output_type": "execute_result"
    }
   ],
   "source": [
    "np.sort(some_result[1])[-27:]"
   ]
  },
  {
   "cell_type": "code",
   "execution_count": 73,
   "metadata": {},
   "outputs": [
    {
     "data": {
      "text/plain": [
       "array([96, 86, 85, 88, 89, 90, 95, 52, 75, 78, 98, 39, 38, 59, 35, 32, 79,\n",
       "       29, 69, 26, 22, 21, 20, 76, 28, 99])"
      ]
     },
     "execution_count": 73,
     "metadata": {},
     "output_type": "execute_result"
    }
   ],
   "source": [
    "np.argsort(some_result[1])[-26:]"
   ]
  },
  {
   "cell_type": "code",
   "execution_count": 65,
   "metadata": {},
   "outputs": [
    {
     "data": {
      "text/plain": [
       "array([[9, 6],\n",
       "       [8, 6],\n",
       "       [8, 5],\n",
       "       [8, 8],\n",
       "       [8, 9],\n",
       "       [9, 0],\n",
       "       [9, 5],\n",
       "       [5, 2],\n",
       "       [7, 5],\n",
       "       [7, 8],\n",
       "       [9, 8],\n",
       "       [3, 9],\n",
       "       [3, 8],\n",
       "       [5, 9],\n",
       "       [3, 5],\n",
       "       [3, 2],\n",
       "       [7, 9],\n",
       "       [2, 9],\n",
       "       [6, 9],\n",
       "       [2, 6],\n",
       "       [2, 2],\n",
       "       [2, 1],\n",
       "       [2, 0],\n",
       "       [7, 6],\n",
       "       [2, 8],\n",
       "       [9, 9]])"
      ]
     },
     "execution_count": 65,
     "metadata": {},
     "output_type": "execute_result"
    }
   ],
   "source": [
    "np.array(some_result[0])[np.argsort(some_result[1])[-26:]]"
   ]
  },
  {
   "cell_type": "code",
   "execution_count": 68,
   "metadata": {},
   "outputs": [
    {
     "data": {
      "text/plain": [
       "[(array([5, 7]), 'peshka'),\n",
       " (array([2, 5]), 'peshka'),\n",
       " (array([9, 2]), 'king'),\n",
       " (array([4, 0]), 'king'),\n",
       " (array([5, 4]), 'king'),\n",
       " (array([7, 1]), 'king'),\n",
       " (array([5, 7]), 'king'),\n",
       " (array([4, 7]), 'tura'),\n",
       " (array([1, 4]), 'tura'),\n",
       " (array([0, 3]), 'tura')]"
      ]
     },
     "execution_count": 68,
     "metadata": {},
     "output_type": "execute_result"
    }
   ],
   "source": [
    "temp_field.figures"
   ]
  },
  {
   "cell_type": "code",
   "execution_count": 66,
   "metadata": {},
   "outputs": [
    {
     "data": {
      "image/png": "[encoded data removed]",
      "text/plain": [
       "<Figure size 432x288 with 1 Axes>"
      ]
     },
     "metadata": {
      "needs_background": "light"
     },
     "output_type": "display_data"
    }
   ],
   "source": [
    "temp_field.show_field()"
   ]
  },
  {
   "cell_type": "code",
   "execution_count": null,
   "metadata": {},
   "outputs": [],
   "source": []
  },
  {
   "cell_type": "code",
   "execution_count": null,
   "metadata": {},
   "outputs": [],
   "source": []
  },
  {
   "cell_type": "code",
   "execution_count": null,
   "metadata": {},
   "outputs": [],
   "source": [
    "class Filteringrapper(object):\n",
    "    \n",
    "    def __init__(\n",
    "        self,\n",
    "        graph,\n",
    "        color_domain\n",
    "    ):\n",
    "        self.graph = graph\n",
    "        self.color_domain = color_domain\n",
    "        self.n = graph.number_of_nodes()\n",
    "        self.domains = [deepcopy(color_domain) for _ in self.n]\n",
    "        \n",
    "        self.result = None\n",
    "        \n",
    "    def get_constraint(self, graph, i, v):\n",
    "        if graph is None:\n",
    "            return None\n",
    "        for node in graph.neighbors(i):\n",
    "            if graph.nodes[node]['color'] == v:\n",
    "                return False\n",
    "        return True    \n",
    "        \n",
    "    def run_colorization(self):\n",
    "        self.result = self.dfs(0, self.graph)\n",
    "        if self.result is None:\n",
    "            print('Solution does not exist')\n",
    "        else:\n",
    "            print('Solution was found')\n",
    "            visualise_graph(self.result)\n",
    "\n",
    "    def filtering(self, i):\n",
    "        for j in graph.neighbors(i):\n",
    "            self.revise(i, j)\n",
    "        \n",
    "    def revise(self, i, j):\n",
    "        old_domain = deepcopy(self.domains[i])\n",
    "        current_domain = deepcopy(self.domains[i])\n",
    "        for  v in current_domain:\n",
    "            if v in self.domains[j]:\n",
    "                current_domain.remove(v)\n",
    "        if set(old_domain) != set(current_domain):\n",
    "            for k in graph.neighbors(i):\n",
    "                self.handle_new_domain(i, current_domain)\n",
    "                \n",
    "    def handle_new_domain(self, i, domain):\n",
    "        self.domains[i] = domain\n",
    "        self.revise"
   ]
  },
  {
   "cell_type": "code",
   "execution_count": null,
   "metadata": {},
   "outputs": [],
   "source": [
    "set([1,2,3]) == set([3,2,1])"
   ]
  },
  {
   "cell_type": "code",
   "execution_count": null,
   "metadata": {},
   "outputs": [],
   "source": []
  }
 ],
 "metadata": {
  "kernelspec": {
   "display_name": "Python 3.7 venv",
   "language": "python",
   "name": "venv"
  },
  "language_info": {
   "codemirror_mode": {
    "name": "ipython",
    "version": 3
   },
   "file_extension": ".py",
   "mimetype": "text/x-python",
   "name": "python",
   "nbconvert_exporter": "python",
   "pygments_lexer": "ipython3",
   "version": "3.7.8"
  }
 },
 "nbformat": 4,
 "nbformat_minor": 4
}
